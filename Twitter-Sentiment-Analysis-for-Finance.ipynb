{
 "cells": [
  {
   "cell_type": "markdown",
   "metadata": {
    "toc": true
   },
   "source": [
    "<h1>Table of Contents<span class=\"tocSkip\"></span></h1>\n",
    "<div class=\"toc\"><ul class=\"toc-item\"><li><span><a href=\"#Get-ready\" data-toc-modified-id=\"Get-ready-1\"><span class=\"toc-item-num\">1&nbsp;&nbsp;</span>Get ready</a></span><ul class=\"toc-item\"><li><span><a href=\"#Install-chromedriver-mac-os-x\" data-toc-modified-id=\"Install-chromedriver-mac-os-x-1.1\"><span class=\"toc-item-num\">1.1&nbsp;&nbsp;</span>Install chromedriver mac os x</a></span></li><li><span><a href=\"#permit-chromedriver\" data-toc-modified-id=\"permit-chromedriver-1.2\"><span class=\"toc-item-num\">1.2&nbsp;&nbsp;</span>permit chromedriver</a></span></li></ul></li><li><span><a href=\"#Get-newspaper-twitter-ids\" data-toc-modified-id=\"Get-newspaper-twitter-ids-2\"><span class=\"toc-item-num\">2&nbsp;&nbsp;</span>Get newspaper twitter ids</a></span><ul class=\"toc-item\"><li><span><a href=\"#get-twitter-api-access-tokens,-save-and-set-up-environmental-variables\" data-toc-modified-id=\"get-twitter-api-access-tokens,-save-and-set-up-environmental-variables-2.1\"><span class=\"toc-item-num\">2.1&nbsp;&nbsp;</span>get twitter api access tokens, save and set up environmental variables</a></span></li><li><span><a href=\"#Get-relevant-twitter-handles-source:\" data-toc-modified-id=\"Get-relevant-twitter-handles-source:-2.2\"><span class=\"toc-item-num\">2.2&nbsp;&nbsp;</span>Get relevant twitter handles source:</a></span></li><li><span><a href=\"#Webscrapping:-get-twitter-ids-from-the-website\" data-toc-modified-id=\"Webscrapping:-get-twitter-ids-from-the-website-2.3\"><span class=\"toc-item-num\">2.3&nbsp;&nbsp;</span>Webscrapping: get twitter ids from the website</a></span></li></ul></li></ul></div>"
   ]
  },
  {
   "cell_type": "code",
   "execution_count": 26,
   "metadata": {
    "ExecuteTime": {
     "end_time": "2020-11-16T06:13:56.046695Z",
     "start_time": "2020-11-16T06:13:55.981814Z"
    }
   },
   "outputs": [
    {
     "name": "stdout",
     "output_type": "stream",
     "text": [
      "The autoreload extension is already loaded. To reload it, use:\n",
      "  %reload_ext autoreload\n"
     ]
    }
   ],
   "source": [
    "%load_ext autoreload\n",
    "%autoreload 2\n",
    "from nltk.twitter import Query, Streamer, Twitter, TweetViewer, TweetWriter, credsfromfile\n",
    "import os, sys\n",
    "import time\n",
    "import pickle\n",
    "from time import sleep\n",
    "from typing import List\n",
    "from twitterid_scraper.scraper import handle_to_id\n"
   ]
  },
  {
   "cell_type": "markdown",
   "metadata": {},
   "source": [
    "## Get ready\n",
    "### Install chromedriver mac os x\n",
    "```\n",
    "brew cask install chromedriver\n",
    "```\n",
    "### permit chromedriver\n",
    "\n",
    "https://stackoverflow.com/questions/60362018/macos-catalinav-10-15-3-error-chromedriver-cannot-be-opened-because-the-de\n",
    "1. Open terminal\n",
    "2. Navigate to path where your chromedriver file is located\n",
    "3. Execute any one of the below commands\n",
    "Command1: \n",
    "```\n",
    "xattr -d com.apple.quarantine <name-of-executable>\n",
    "```\n",
    "\n",
    "Example\n",
    "\n",
    "/usr/local/Caskroom/chromedriver \n",
    "\n",
    "```\n",
    "xattr -d com.apple.quarantine chromedriver \n",
    "```\n",
    "(or)\n",
    "\n",
    "Command2: \n",
    "\n",
    "```\n",
    "spctl --add --label 'Approved' <name-of-executable>\n",
    "```\n",
    "\n",
    "Source: https://docwhat.org/upgrading-to-catalina\n",
    "\n",
    "Note: This will work only with the file(s) where the above command is executed. If a new chromedriver is downloaded then the command has to be executed again on the newly downloaded file\n",
    "\n",
    "\n",
    "\n"
   ]
  },
  {
   "cell_type": "markdown",
   "metadata": {
    "ExecuteTime": {
     "end_time": "2020-11-15T17:30:48.175631Z",
     "start_time": "2020-11-15T17:30:48.171229Z"
    }
   },
   "source": [
    "## Get newspaper twitter ids\n",
    "\n",
    "### get twitter api access tokens, save and set up environmental variables\n",
    "```\n",
    "os.environ['TWITTER']=\"/Users/foldername/twitter-files\"\n",
    "```"
   ]
  },
  {
   "cell_type": "markdown",
   "metadata": {},
   "source": [
    "### Get relevant twitter handles source:\n",
    "\n",
    "https://devexperts.com/blog/how-to-create-and-backtest-trading-strategy-on-twitter-sentiments/"
   ]
  },
  {
   "cell_type": "code",
   "execution_count": 22,
   "metadata": {
    "ExecuteTime": {
     "end_time": "2020-11-16T06:11:01.850812Z",
     "start_time": "2020-11-16T06:11:01.816487Z"
    }
   },
   "outputs": [],
   "source": [
    "twitter_handles = \"\"\"\n",
    "@business, @WSJMarkets, @WSJMoneyBeat, @stocktwits, @benzinga, @markets\n",
    ", @IBDinvestors, @nytimesbusiness, @jimcramer, @TheStalwart, @ReformedBroker\n",
    ", @bespokeinvest, @stlouisfed, @Wu_Tang_Finance, @StockCats, @LizAnnSonders\n",
    ", @The_Real_Fly, @charliebilello, @lindayueh\n",
    ", @ukarlewitz, @paulkrugman, @EIAgov, @MarketWatch, @SeekingAlpha, @zerohedge\n",
    "\"\"\"\n",
    "twitter_handles = [x.strip() for x in twitter_handles.split(', ')]"
   ]
  },
  {
   "cell_type": "markdown",
   "metadata": {
    "ExecuteTime": {
     "end_time": "2020-11-15T19:37:20.483650Z",
     "start_time": "2020-11-15T19:37:20.475913Z"
    }
   },
   "source": [
    "### Webscrapping: get twitter ids from the website\n",
    "https://tweeterid.com/\n",
    "    "
   ]
  },
  {
   "cell_type": "code",
   "execution_count": 28,
   "metadata": {
    "ExecuteTime": {
     "end_time": "2020-11-16T06:18:58.277821Z",
     "start_time": "2020-11-16T06:17:37.443559Z"
    }
   },
   "outputs": [
    {
     "name": "stdout",
     "output_type": "stream",
     "text": [
      "converting: @business\n",
      "converting: @WSJMarkets\n",
      "converting: @WSJMoneyBeat\n",
      "converting: @stocktwits\n",
      "converting: @benzinga\n",
      "converting: @markets\n",
      "converting: @IBDinvestors\n",
      "converting: @nytimesbusiness\n",
      "converting: @jimcramer\n",
      "converting: @TheStalwart\n",
      "converting: @ReformedBroker\n",
      "converting: @bespokeinvest\n",
      "converting: @stlouisfed\n",
      "converting: @Wu_Tang_Finance\n",
      "converting: @StockCats\n",
      "converting: @LizAnnSonders\n",
      "converting: @The_Real_Fly\n",
      "converting: @charliebilello\n",
      "converting: @lindayueh\n",
      "converting: @ukarlewitz\n",
      "converting: @paulkrugman\n",
      "converting: @EIAgov\n",
      "converting: @MarketWatch\n",
      "converting: @SeekingAlpha\n",
      "converting: @zerohedge\n",
      "execution time: 80.77014708518982 seconds.\n",
      "25 handles converted into ids.\n"
     ]
    }
   ],
   "source": [
    "#launch url\n",
    "newspapers_dict=handle_to_id(twitter_handles)\n",
    "with open('./newspapers_dict.pkl', 'wb') as fhandle:\n",
    "    pickle.dump(newspapers_dict, fhandle)\n"
   ]
  },
  {
   "cell_type": "code",
   "execution_count": 5,
   "metadata": {
    "ExecuteTime": {
     "end_time": "2020-11-15T19:22:48.158853Z",
     "start_time": "2020-11-15T19:22:48.154492Z"
    }
   },
   "outputs": [],
   "source": [
    "with open('./newspapers_dict.pkl', 'rb') as fhandle:\n",
    "    newspapers_dict = pickle.load(fhandle)\n"
   ]
  },
  {
   "cell_type": "code",
   "execution_count": 8,
   "metadata": {
    "ExecuteTime": {
     "end_time": "2020-11-15T19:24:06.920668Z",
     "start_time": "2020-11-15T19:24:06.917460Z"
    }
   },
   "outputs": [],
   "source": []
  },
  {
   "cell_type": "code",
   "execution_count": 13,
   "metadata": {
    "ExecuteTime": {
     "end_time": "2020-11-15T19:29:10.207499Z",
     "start_time": "2020-11-15T19:28:17.450199Z"
    },
    "scrolled": false
   },
   "outputs": [
    {
     "name": "stdout",
     "output_type": "stream",
     "text": [
      "RT @business: Dubai is seeking a buyer for the cooling system operations of its biggest airport as it leans on asset sales and debt to shor…\n",
      "RT @zerohedge: \"I Concede Nothing\": Trump Blasts \"Fake News Media\" For Saying He Conceded To Biden https://t.co/Ieww5GRxm1\n",
      "RT @business: Peru’s interim president, Manuel Merino, says he’s resigning just six days after the impeachment of his predecessor plunged t…\n",
      "President-elect Joe Biden and Vice President-elect Kamala Harris will make remarks on the U.S. economy on Monday https://t.co/7gWeR95mug\n",
      "RT @zerohedge: In Striking Reversal, One Bank Warns That 2021 Could See The \"Biggest Fiscal Contraction In History\" https://t.co/d4PGtss8PY\n",
      "RT @business: President-elect Joe Biden and Vice President-elect Kamala Harris will make remarks on the U.S. economy on Monday https://t.co…\n",
      "RT @business: Dr. Fauci says the success of Pfizer’s Covid-19 vaccine trial may help persuade more people to get inoculated https://t.co/6P…\n",
      "RT @zerohedge: *Trump Allies Explored Buyout of Newsmax TV as Fox News Alternative, Sources Say\n",
      "\n",
      "*Hicks Equity Partners Has Had Talks in Re…\n",
      "RT @business: Peru’s interim president, Manuel Merino, says he’s resigning just six days after the impeachment of his predecessor plunged t…\n",
      "RT @business: President-elect Joe Biden and Vice President-elect Kamala Harris will make remarks on the U.S. economy on Monday https://t.co…\n",
      "Written 10 Tweets\n"
     ]
    }
   ],
   "source": [
    "# check the specific accounts\n",
    "tw = Twitter()\n",
    "# seems hard to get 100% relavant tweets\n",
    "tw.tweets(follow=list(newspapers_dict.values()), limit=10, keywords='Tesla car', lang='en') # see what the newspapers are talking about"
   ]
  }
 ],
 "metadata": {
  "kernelspec": {
   "display_name": "Python [conda env:env-ml-opencv] *",
   "language": "python",
   "name": "conda-env-env-ml-opencv-py"
  },
  "language_info": {
   "codemirror_mode": {
    "name": "ipython",
    "version": 3
   },
   "file_extension": ".py",
   "mimetype": "text/x-python",
   "name": "python",
   "nbconvert_exporter": "python",
   "pygments_lexer": "ipython3",
   "version": "3.7.5"
  },
  "latex_envs": {
   "LaTeX_envs_menu_present": true,
   "autoclose": false,
   "autocomplete": true,
   "bibliofile": "biblio.bib",
   "cite_by": "apalike",
   "current_citInitial": 1,
   "eqLabelWithNumbers": true,
   "eqNumInitial": 1,
   "hotkeys": {
    "equation": "Ctrl-E",
    "itemize": "Ctrl-I"
   },
   "labels_anchors": false,
   "latex_user_defs": false,
   "report_style_numbering": false,
   "user_envs_cfg": false
  },
  "toc": {
   "base_numbering": 1,
   "nav_menu": {},
   "number_sections": true,
   "sideBar": true,
   "skip_h1_title": false,
   "title_cell": "Table of Contents",
   "title_sidebar": "Contents",
   "toc_cell": true,
   "toc_position": {},
   "toc_section_display": true,
   "toc_window_display": true
  }
 },
 "nbformat": 4,
 "nbformat_minor": 4
}
