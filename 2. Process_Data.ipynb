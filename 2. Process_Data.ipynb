{
 "cells": [
  {
   "cell_type": "markdown",
   "metadata": {
    "toc": true
   },
   "source": [
    "<h1>Table of Contents<span class=\"tocSkip\"></span></h1>\n",
    "<div class=\"toc\"><ul class=\"toc-item\"><li><span><a href=\"#Read-data-into-dataframe\" data-toc-modified-id=\"Read-data-into-dataframe-1\"><span class=\"toc-item-num\">1&nbsp;&nbsp;</span>Read data into dataframe</a></span></li></ul></div>"
   ]
  },
  {
   "cell_type": "code",
   "execution_count": 116,
   "metadata": {
    "ExecuteTime": {
     "end_time": "2020-11-24T07:12:17.128560Z",
     "start_time": "2020-11-24T07:12:17.074198Z"
    }
   },
   "outputs": [
    {
     "name": "stdout",
     "output_type": "stream",
     "text": [
      "The autoreload extension is already loaded. To reload it, use:\n",
      "  %reload_ext autoreload\n"
     ]
    }
   ],
   "source": [
    "%load_ext autoreload\n",
    "%autoreload 2\n",
    "from nltk.twitter import Query, Streamer, Twitter, TweetViewer, TweetWriter, credsfromfile\n",
    "import os, sys\n",
    "import time\n",
    "import pickle\n",
    "import pandas as pd\n",
    "import json\n",
    "from time import sleep\n",
    "from typing import List\n",
    "\n",
    "from IPython.core.interactiveshell import InteractiveShell\n",
    "InteractiveShell.ast_node_interactivity = \"all\"\n"
   ]
  },
  {
   "cell_type": "code",
   "execution_count": 49,
   "metadata": {
    "ExecuteTime": {
     "end_time": "2020-11-23T21:33:20.583228Z",
     "start_time": "2020-11-23T21:33:20.126176Z"
    }
   },
   "outputs": [
    {
     "name": "stdout",
     "output_type": "stream",
     "text": [
      "tweets.20201115-180333.json       tweets.20201122-174613 copy.json\r\n",
      "tweets.20201115-180817.json       tweets.20201122-174613.json\r\n",
      "tweets.20201115-181021.json\r\n"
     ]
    }
   ],
   "source": [
    "ls /Users/shuyili/twitter-files/"
   ]
  },
  {
   "cell_type": "markdown",
   "metadata": {},
   "source": [
    "## Read data into dataframe"
   ]
  },
  {
   "cell_type": "code",
   "execution_count": null,
   "metadata": {
    "ExecuteTime": {
     "end_time": "2020-11-22T16:58:56.821881Z",
     "start_time": "2020-11-22T16:58:51.839393Z"
    }
   },
   "outputs": [],
   "source": []
  },
  {
   "cell_type": "code",
   "execution_count": 119,
   "metadata": {
    "ExecuteTime": {
     "end_time": "2020-11-24T07:13:02.068140Z",
     "start_time": "2020-11-24T07:13:01.868667Z"
    }
   },
   "outputs": [
    {
     "data": {
      "text/plain": [
       "(1000, 36)"
      ]
     },
     "execution_count": 119,
     "metadata": {},
     "output_type": "execute_result"
    },
    {
     "data": {
      "text/plain": [
       "Index(['contributors', 'coordinates', 'created_at', 'display_text_range',\n",
       "       'entities', 'extended_entities', 'extended_tweet', 'favorite_count',\n",
       "       'favorited', 'filter_level', 'geo', 'id', 'id_str',\n",
       "       'in_reply_to_screen_name', 'in_reply_to_status_id',\n",
       "       'in_reply_to_status_id_str', 'in_reply_to_user_id',\n",
       "       'in_reply_to_user_id_str', 'is_quote_status', 'lang', 'place',\n",
       "       'possibly_sensitive', 'quote_count', 'quoted_status',\n",
       "       'quoted_status_id', 'quoted_status_id_str', 'quoted_status_permalink',\n",
       "       'reply_count', 'retweet_count', 'retweeted', 'retweeted_status',\n",
       "       'source', 'text', 'timestamp_ms', 'truncated', 'user'],\n",
       "      dtype='object')"
      ]
     },
     "execution_count": 119,
     "metadata": {},
     "output_type": "execute_result"
    },
    {
     "data": {
      "text/html": [
       "<div>\n",
       "<style scoped>\n",
       "    .dataframe tbody tr th:only-of-type {\n",
       "        vertical-align: middle;\n",
       "    }\n",
       "\n",
       "    .dataframe tbody tr th {\n",
       "        vertical-align: top;\n",
       "    }\n",
       "\n",
       "    .dataframe thead th {\n",
       "        text-align: right;\n",
       "    }\n",
       "</style>\n",
       "<table border=\"1\" class=\"dataframe\">\n",
       "  <thead>\n",
       "    <tr style=\"text-align: right;\">\n",
       "      <th></th>\n",
       "      <th>contributors</th>\n",
       "      <th>coordinates</th>\n",
       "      <th>created_at</th>\n",
       "      <th>display_text_range</th>\n",
       "      <th>entities</th>\n",
       "      <th>extended_entities</th>\n",
       "      <th>extended_tweet</th>\n",
       "      <th>favorite_count</th>\n",
       "      <th>favorited</th>\n",
       "      <th>filter_level</th>\n",
       "      <th>...</th>\n",
       "      <th>quoted_status_permalink</th>\n",
       "      <th>reply_count</th>\n",
       "      <th>retweet_count</th>\n",
       "      <th>retweeted</th>\n",
       "      <th>retweeted_status</th>\n",
       "      <th>source</th>\n",
       "      <th>text</th>\n",
       "      <th>timestamp_ms</th>\n",
       "      <th>truncated</th>\n",
       "      <th>user</th>\n",
       "    </tr>\n",
       "  </thead>\n",
       "  <tbody>\n",
       "    <tr>\n",
       "      <th>0</th>\n",
       "      <td>None</td>\n",
       "      <td>None</td>\n",
       "      <td>Sun Nov 22 16:46:09 +0000 2020</td>\n",
       "      <td>NaN</td>\n",
       "      <td>{'hashtags': [], 'urls': [{'url': 'https://t.c...</td>\n",
       "      <td>NaN</td>\n",
       "      <td>NaN</td>\n",
       "      <td>0</td>\n",
       "      <td>False</td>\n",
       "      <td>low</td>\n",
       "      <td>...</td>\n",
       "      <td>NaN</td>\n",
       "      <td>0</td>\n",
       "      <td>0</td>\n",
       "      <td>False</td>\n",
       "      <td>{'created_at': 'Sun Nov 22 16:40:01 +0000 2020...</td>\n",
       "      <td>&lt;a href=\"http://twitter.com/download/android\" ...</td>\n",
       "      <td>RT @zerohedge: Trump Formally Ends Open Skies ...</td>\n",
       "      <td>1606063569663</td>\n",
       "      <td>False</td>\n",
       "      <td>{'id': 774461530599403521, 'id_str': '77446153...</td>\n",
       "    </tr>\n",
       "    <tr>\n",
       "      <th>1</th>\n",
       "      <td>None</td>\n",
       "      <td>None</td>\n",
       "      <td>Sun Nov 22 16:46:10 +0000 2020</td>\n",
       "      <td>[10, 97]</td>\n",
       "      <td>{'hashtags': [], 'urls': [], 'user_mentions': ...</td>\n",
       "      <td>NaN</td>\n",
       "      <td>NaN</td>\n",
       "      <td>0</td>\n",
       "      <td>False</td>\n",
       "      <td>low</td>\n",
       "      <td>...</td>\n",
       "      <td>NaN</td>\n",
       "      <td>0</td>\n",
       "      <td>0</td>\n",
       "      <td>False</td>\n",
       "      <td>NaN</td>\n",
       "      <td>&lt;a href=\"http://twitter.com/download/iphone\" r...</td>\n",
       "      <td>@business STOP TRYING TO MANIPULATE AND DIVIDE...</td>\n",
       "      <td>1606063570332</td>\n",
       "      <td>False</td>\n",
       "      <td>{'id': 1324922133386989569, 'id_str': '1324922...</td>\n",
       "    </tr>\n",
       "    <tr>\n",
       "      <th>2</th>\n",
       "      <td>None</td>\n",
       "      <td>None</td>\n",
       "      <td>Sun Nov 22 16:46:10 +0000 2020</td>\n",
       "      <td>NaN</td>\n",
       "      <td>{'hashtags': [], 'urls': [{'url': 'https://t.c...</td>\n",
       "      <td>NaN</td>\n",
       "      <td>{'full_text': '$TSLA $BA $SPY $NIO $NVDA $ZM $...</td>\n",
       "      <td>0</td>\n",
       "      <td>False</td>\n",
       "      <td>low</td>\n",
       "      <td>...</td>\n",
       "      <td>NaN</td>\n",
       "      <td>0</td>\n",
       "      <td>0</td>\n",
       "      <td>False</td>\n",
       "      <td>NaN</td>\n",
       "      <td>&lt;a href=\"https://mobile.twitter.com\" rel=\"nofo...</td>\n",
       "      <td>$TSLA $BA $SPY $NIO $NVDA $ZM $PT $RIOT $BABA ...</td>\n",
       "      <td>1606063570699</td>\n",
       "      <td>True</td>\n",
       "      <td>{'id': 1330552090452746244, 'id_str': '1330552...</td>\n",
       "    </tr>\n",
       "    <tr>\n",
       "      <th>3</th>\n",
       "      <td>None</td>\n",
       "      <td>None</td>\n",
       "      <td>Sun Nov 22 16:46:11 +0000 2020</td>\n",
       "      <td>NaN</td>\n",
       "      <td>{'hashtags': [], 'urls': [], 'user_mentions': ...</td>\n",
       "      <td>NaN</td>\n",
       "      <td>NaN</td>\n",
       "      <td>0</td>\n",
       "      <td>False</td>\n",
       "      <td>low</td>\n",
       "      <td>...</td>\n",
       "      <td>NaN</td>\n",
       "      <td>0</td>\n",
       "      <td>0</td>\n",
       "      <td>False</td>\n",
       "      <td>{'created_at': 'Sun Nov 22 16:46:05 +0000 2020...</td>\n",
       "      <td>&lt;a href=\"https://plutonic.co.in\" rel=\"nofollow...</td>\n",
       "      <td>RT @business: U.K. government ministers have a...</td>\n",
       "      <td>1606063571449</td>\n",
       "      <td>False</td>\n",
       "      <td>{'id': 1238467680773894146, 'id_str': '1238467...</td>\n",
       "    </tr>\n",
       "    <tr>\n",
       "      <th>4</th>\n",
       "      <td>None</td>\n",
       "      <td>None</td>\n",
       "      <td>Sun Nov 22 16:46:11 +0000 2020</td>\n",
       "      <td>NaN</td>\n",
       "      <td>{'hashtags': [], 'urls': [{'url': 'https://t.c...</td>\n",
       "      <td>NaN</td>\n",
       "      <td>NaN</td>\n",
       "      <td>0</td>\n",
       "      <td>False</td>\n",
       "      <td>low</td>\n",
       "      <td>...</td>\n",
       "      <td>NaN</td>\n",
       "      <td>0</td>\n",
       "      <td>0</td>\n",
       "      <td>False</td>\n",
       "      <td>{'created_at': 'Sun Nov 22 16:40:01 +0000 2020...</td>\n",
       "      <td>&lt;a href=\"http://twitter.com/download/android\" ...</td>\n",
       "      <td>RT @zerohedge: Trump Formally Ends Open Skies ...</td>\n",
       "      <td>1606063571878</td>\n",
       "      <td>False</td>\n",
       "      <td>{'id': 2920041180, 'id_str': '2920041180', 'na...</td>\n",
       "    </tr>\n",
       "  </tbody>\n",
       "</table>\n",
       "<p>5 rows × 36 columns</p>\n",
       "</div>"
      ],
      "text/plain": [
       "  contributors coordinates                      created_at display_text_range  \\\n",
       "0         None        None  Sun Nov 22 16:46:09 +0000 2020                NaN   \n",
       "1         None        None  Sun Nov 22 16:46:10 +0000 2020           [10, 97]   \n",
       "2         None        None  Sun Nov 22 16:46:10 +0000 2020                NaN   \n",
       "3         None        None  Sun Nov 22 16:46:11 +0000 2020                NaN   \n",
       "4         None        None  Sun Nov 22 16:46:11 +0000 2020                NaN   \n",
       "\n",
       "                                            entities extended_entities  \\\n",
       "0  {'hashtags': [], 'urls': [{'url': 'https://t.c...               NaN   \n",
       "1  {'hashtags': [], 'urls': [], 'user_mentions': ...               NaN   \n",
       "2  {'hashtags': [], 'urls': [{'url': 'https://t.c...               NaN   \n",
       "3  {'hashtags': [], 'urls': [], 'user_mentions': ...               NaN   \n",
       "4  {'hashtags': [], 'urls': [{'url': 'https://t.c...               NaN   \n",
       "\n",
       "                                      extended_tweet  favorite_count  \\\n",
       "0                                                NaN               0   \n",
       "1                                                NaN               0   \n",
       "2  {'full_text': '$TSLA $BA $SPY $NIO $NVDA $ZM $...               0   \n",
       "3                                                NaN               0   \n",
       "4                                                NaN               0   \n",
       "\n",
       "   favorited filter_level  ... quoted_status_permalink  reply_count  \\\n",
       "0      False          low  ...                     NaN            0   \n",
       "1      False          low  ...                     NaN            0   \n",
       "2      False          low  ...                     NaN            0   \n",
       "3      False          low  ...                     NaN            0   \n",
       "4      False          low  ...                     NaN            0   \n",
       "\n",
       "  retweet_count retweeted                                   retweeted_status  \\\n",
       "0             0     False  {'created_at': 'Sun Nov 22 16:40:01 +0000 2020...   \n",
       "1             0     False                                                NaN   \n",
       "2             0     False                                                NaN   \n",
       "3             0     False  {'created_at': 'Sun Nov 22 16:46:05 +0000 2020...   \n",
       "4             0     False  {'created_at': 'Sun Nov 22 16:40:01 +0000 2020...   \n",
       "\n",
       "                                              source  \\\n",
       "0  <a href=\"http://twitter.com/download/android\" ...   \n",
       "1  <a href=\"http://twitter.com/download/iphone\" r...   \n",
       "2  <a href=\"https://mobile.twitter.com\" rel=\"nofo...   \n",
       "3  <a href=\"https://plutonic.co.in\" rel=\"nofollow...   \n",
       "4  <a href=\"http://twitter.com/download/android\" ...   \n",
       "\n",
       "                                                text   timestamp_ms  \\\n",
       "0  RT @zerohedge: Trump Formally Ends Open Skies ...  1606063569663   \n",
       "1  @business STOP TRYING TO MANIPULATE AND DIVIDE...  1606063570332   \n",
       "2  $TSLA $BA $SPY $NIO $NVDA $ZM $PT $RIOT $BABA ...  1606063570699   \n",
       "3  RT @business: U.K. government ministers have a...  1606063571449   \n",
       "4  RT @zerohedge: Trump Formally Ends Open Skies ...  1606063571878   \n",
       "\n",
       "   truncated                                               user  \n",
       "0      False  {'id': 774461530599403521, 'id_str': '77446153...  \n",
       "1      False  {'id': 1324922133386989569, 'id_str': '1324922...  \n",
       "2       True  {'id': 1330552090452746244, 'id_str': '1330552...  \n",
       "3      False  {'id': 1238467680773894146, 'id_str': '1238467...  \n",
       "4      False  {'id': 2920041180, 'id_str': '2920041180', 'na...  \n",
       "\n",
       "[5 rows x 36 columns]"
      ]
     },
     "execution_count": 119,
     "metadata": {},
     "output_type": "execute_result"
    }
   ],
   "source": [
    "fpath = '/Users/shuyili/twitter-files/tweets.20201122-174613.json'\n",
    "# fpath = '/Users/shuyili/twitter-files/tweets.20201115-181021.json'\n",
    "with open(fpath, 'rb') as f:\n",
    "    data = f.readlines()\n",
    "    df = pd.DataFrame([json.loads(x.decode()) for x in data])\n",
    "    \n",
    "df.shape\n",
    "df.columns  \n",
    "df.head() \n",
    "\n",
    "    "
   ]
  },
  {
   "cell_type": "code",
   "execution_count": 122,
   "metadata": {
    "ExecuteTime": {
     "end_time": "2020-11-24T07:14:53.017002Z",
     "start_time": "2020-11-24T07:14:52.981788Z"
    }
   },
   "outputs": [
    {
     "data": {
      "text/plain": [
       "0    RT @zerohedge: Trump Formally Ends Open Skies ...\n",
       "1    @business STOP TRYING TO MANIPULATE AND DIVIDE...\n",
       "2    $TSLA $BA $SPY $NIO $NVDA $ZM $PT $RIOT $BABA ...\n",
       "3    RT @business: U.K. government ministers have a...\n",
       "4    RT @zerohedge: Trump Formally Ends Open Skies ...\n",
       "Name: text, dtype: object"
      ]
     },
     "execution_count": 122,
     "metadata": {},
     "output_type": "execute_result"
    }
   ],
   "source": [
    "# tweet part\n",
    "df.head()['text']\n",
    "\n",
    "\n"
   ]
  },
  {
   "cell_type": "code",
   "execution_count": null,
   "metadata": {
    "ExecuteTime": {
     "end_time": "2020-11-24T07:07:19.800890Z",
     "start_time": "2020-11-24T07:07:19.712322Z"
    }
   },
   "outputs": [],
   "source": [
    "\n",
    "\n",
    "\n"
   ]
  },
  {
   "cell_type": "code",
   "execution_count": null,
   "metadata": {
    "ExecuteTime": {
     "end_time": "2020-11-24T07:02:19.765741Z",
     "start_time": "2020-11-24T07:02:19.714837Z"
    }
   },
   "outputs": [],
   "source": []
  },
  {
   "cell_type": "code",
   "execution_count": null,
   "metadata": {},
   "outputs": [],
   "source": []
  },
  {
   "cell_type": "code",
   "execution_count": null,
   "metadata": {},
   "outputs": [],
   "source": []
  }
 ],
 "metadata": {
  "kernelspec": {
   "display_name": "Python [conda env:env-ml-opencv] *",
   "language": "python",
   "name": "conda-env-env-ml-opencv-py"
  },
  "language_info": {
   "codemirror_mode": {
    "name": "ipython",
    "version": 3
   },
   "file_extension": ".py",
   "mimetype": "text/x-python",
   "name": "python",
   "nbconvert_exporter": "python",
   "pygments_lexer": "ipython3",
   "version": "3.7.5"
  },
  "toc": {
   "base_numbering": 1,
   "nav_menu": {},
   "number_sections": true,
   "sideBar": true,
   "skip_h1_title": false,
   "title_cell": "Table of Contents",
   "title_sidebar": "Contents",
   "toc_cell": true,
   "toc_position": {},
   "toc_section_display": true,
   "toc_window_display": true
  }
 },
 "nbformat": 4,
 "nbformat_minor": 2
}
