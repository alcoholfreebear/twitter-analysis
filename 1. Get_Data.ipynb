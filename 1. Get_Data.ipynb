{
 "cells": [
  {
   "cell_type": "markdown",
   "metadata": {
    "toc": true
   },
   "source": [
    "<h1>Table of Contents<span class=\"tocSkip\"></span></h1>\n",
    "<div class=\"toc\"><ul class=\"toc-item\"><li><span><a href=\"#Get-ready\" data-toc-modified-id=\"Get-ready-1\"><span class=\"toc-item-num\">1&nbsp;&nbsp;</span>Get ready</a></span><ul class=\"toc-item\"><li><span><a href=\"#Install-chromedriver-mac-os-x\" data-toc-modified-id=\"Install-chromedriver-mac-os-x-1.1\"><span class=\"toc-item-num\">1.1&nbsp;&nbsp;</span>Install chromedriver mac os x</a></span></li><li><span><a href=\"#permit-chromedriver\" data-toc-modified-id=\"permit-chromedriver-1.2\"><span class=\"toc-item-num\">1.2&nbsp;&nbsp;</span>permit chromedriver</a></span></li></ul></li><li><span><a href=\"#Get-newspaper-twitter-ids\" data-toc-modified-id=\"Get-newspaper-twitter-ids-2\"><span class=\"toc-item-num\">2&nbsp;&nbsp;</span>Get newspaper twitter ids</a></span><ul class=\"toc-item\"><li><span><a href=\"#get-twitter-api-access-tokens,-save-and-set-up-environmental-variables\" data-toc-modified-id=\"get-twitter-api-access-tokens,-save-and-set-up-environmental-variables-2.1\"><span class=\"toc-item-num\">2.1&nbsp;&nbsp;</span>get twitter api access tokens, save and set up environmental variables</a></span></li><li><span><a href=\"#Get-relevant-twitter-handles-source:\" data-toc-modified-id=\"Get-relevant-twitter-handles-source:-2.2\"><span class=\"toc-item-num\">2.2&nbsp;&nbsp;</span>Get relevant twitter handles source:</a></span></li><li><span><a href=\"#Webscrapping:-get-twitter-ids-from-the-website\" data-toc-modified-id=\"Webscrapping:-get-twitter-ids-from-the-website-2.3\"><span class=\"toc-item-num\">2.3&nbsp;&nbsp;</span>Webscrapping: get twitter ids from the website</a></span></li></ul></li><li><span><a href=\"#Get-tweets-about-Tesla\" data-toc-modified-id=\"Get-tweets-about-Tesla-3\"><span class=\"toc-item-num\">3&nbsp;&nbsp;</span>Get tweets about Tesla</a></span><ul class=\"toc-item\"><li><span><a href=\"#Check-tweets\" data-toc-modified-id=\"Check-tweets-3.1\"><span class=\"toc-item-num\">3.1&nbsp;&nbsp;</span>Check tweets</a></span></li><li><span><a href=\"#Save-file\" data-toc-modified-id=\"Save-file-3.2\"><span class=\"toc-item-num\">3.2&nbsp;&nbsp;</span>Save file</a></span></li></ul></li></ul></div>"
   ]
  },
  {
   "cell_type": "code",
   "execution_count": 30,
   "metadata": {
    "ExecuteTime": {
     "end_time": "2020-11-22T16:35:13.542452Z",
     "start_time": "2020-11-22T16:35:13.440561Z"
    }
   },
   "outputs": [
    {
     "name": "stdout",
     "output_type": "stream",
     "text": [
      "The autoreload extension is already loaded. To reload it, use:\n",
      "  %reload_ext autoreload\n"
     ]
    }
   ],
   "source": [
    "%load_ext autoreload\n",
    "%autoreload 2\n",
    "from nltk.twitter import Query, Streamer, Twitter, TweetViewer, TweetWriter, credsfromfile\n",
    "import os, sys\n",
    "import time\n",
    "import pickle\n",
    "from time import sleep\n",
    "from typing import List\n",
    "from twitterid_scraper.scraper import handle_to_id\n"
   ]
  },
  {
   "cell_type": "markdown",
   "metadata": {},
   "source": [
    "## Get ready\n",
    "### Install chromedriver mac os x\n",
    "```\n",
    "brew cask install chromedriver\n",
    "```\n",
    "### permit chromedriver\n",
    "\n",
    "https://stackoverflow.com/questions/60362018/macos-catalinav-10-15-3-error-chromedriver-cannot-be-opened-because-the-de\n",
    "1. Open terminal\n",
    "2. Navigate to path where your chromedriver file is located\n",
    "3. Execute any one of the below commands\n",
    "Command1: \n",
    "```\n",
    "xattr -d com.apple.quarantine <name-of-executable>\n",
    "```\n",
    "\n",
    "Example\n",
    "\n",
    "/usr/local/Caskroom/chromedriver \n",
    "\n",
    "```\n",
    "xattr -d com.apple.quarantine chromedriver \n",
    "```\n",
    "(or)\n",
    "\n",
    "Command2: \n",
    "\n",
    "```\n",
    "spctl --add --label 'Approved' <name-of-executable>\n",
    "```\n",
    "\n",
    "Source: https://docwhat.org/upgrading-to-catalina\n",
    "\n",
    "Note: This will work only with the file(s) where the above command is executed. If a new chromedriver is downloaded then the command has to be executed again on the newly downloaded file\n",
    "\n",
    "\n",
    "\n"
   ]
  },
  {
   "cell_type": "markdown",
   "metadata": {
    "ExecuteTime": {
     "end_time": "2020-11-15T17:30:48.175631Z",
     "start_time": "2020-11-15T17:30:48.171229Z"
    }
   },
   "source": [
    "## Get newspaper twitter ids\n",
    "\n",
    "### get twitter api access tokens, save and set up environmental variables\n",
    "```\n",
    "os.environ['TWITTER']=\"/Users/foldername/twitter-files\"\n",
    "```"
   ]
  },
  {
   "cell_type": "markdown",
   "metadata": {},
   "source": [
    "### Get relevant twitter handles source:\n",
    "\n",
    "https://devexperts.com/blog/how-to-create-and-backtest-trading-strategy-on-twitter-sentiments/"
   ]
  },
  {
   "cell_type": "code",
   "execution_count": 22,
   "metadata": {
    "ExecuteTime": {
     "end_time": "2020-11-16T06:11:01.850812Z",
     "start_time": "2020-11-16T06:11:01.816487Z"
    }
   },
   "outputs": [],
   "source": [
    "twitter_handles = \"\"\"\n",
    "@business, @WSJMarkets, @WSJMoneyBeat, @stocktwits, @benzinga, @markets\n",
    ", @IBDinvestors, @nytimesbusiness, @jimcramer, @TheStalwart, @ReformedBroker\n",
    ", @bespokeinvest, @stlouisfed, @Wu_Tang_Finance, @StockCats, @LizAnnSonders\n",
    ", @The_Real_Fly, @charliebilello, @lindayueh\n",
    ", @ukarlewitz, @paulkrugman, @EIAgov, @MarketWatch, @SeekingAlpha, @zerohedge\n",
    "\"\"\"\n",
    "twitter_handles = [x.strip() for x in twitter_handles.split(', ')]"
   ]
  },
  {
   "cell_type": "markdown",
   "metadata": {
    "ExecuteTime": {
     "end_time": "2020-11-15T19:37:20.483650Z",
     "start_time": "2020-11-15T19:37:20.475913Z"
    }
   },
   "source": [
    "### Webscrapping: get twitter ids from the website\n",
    "https://tweeterid.com/\n",
    "    "
   ]
  },
  {
   "cell_type": "code",
   "execution_count": 28,
   "metadata": {
    "ExecuteTime": {
     "end_time": "2020-11-16T06:18:58.277821Z",
     "start_time": "2020-11-16T06:17:37.443559Z"
    }
   },
   "outputs": [
    {
     "name": "stdout",
     "output_type": "stream",
     "text": [
      "converting: @business\n",
      "converting: @WSJMarkets\n",
      "converting: @WSJMoneyBeat\n",
      "converting: @stocktwits\n",
      "converting: @benzinga\n",
      "converting: @markets\n",
      "converting: @IBDinvestors\n",
      "converting: @nytimesbusiness\n",
      "converting: @jimcramer\n",
      "converting: @TheStalwart\n",
      "converting: @ReformedBroker\n",
      "converting: @bespokeinvest\n",
      "converting: @stlouisfed\n",
      "converting: @Wu_Tang_Finance\n",
      "converting: @StockCats\n",
      "converting: @LizAnnSonders\n",
      "converting: @The_Real_Fly\n",
      "converting: @charliebilello\n",
      "converting: @lindayueh\n",
      "converting: @ukarlewitz\n",
      "converting: @paulkrugman\n",
      "converting: @EIAgov\n",
      "converting: @MarketWatch\n",
      "converting: @SeekingAlpha\n",
      "converting: @zerohedge\n",
      "execution time: 80.77014708518982 seconds.\n",
      "25 handles converted into ids.\n"
     ]
    }
   ],
   "source": [
    "#launch url\n",
    "newspapers_dict=handle_to_id(twitter_handles)\n",
    "with open('./newspapers_dict.pkl', 'wb') as fhandle:\n",
    "    pickle.dump(newspapers_dict, fhandle)\n"
   ]
  },
  {
   "cell_type": "code",
   "execution_count": 5,
   "metadata": {
    "ExecuteTime": {
     "end_time": "2020-11-15T19:22:48.158853Z",
     "start_time": "2020-11-15T19:22:48.154492Z"
    }
   },
   "outputs": [],
   "source": [
    "with open('./newspapers_dict.pkl', 'rb') as fhandle:\n",
    "    newspapers_dict = pickle.load(fhandle)\n"
   ]
  },
  {
   "cell_type": "markdown",
   "metadata": {
    "ExecuteTime": {
     "end_time": "2020-11-15T19:24:06.920668Z",
     "start_time": "2020-11-15T19:24:06.917460Z"
    }
   },
   "source": [
    "## Get tweets about Tesla"
   ]
  },
  {
   "cell_type": "markdown",
   "metadata": {},
   "source": [
    "### Check tweets"
   ]
  },
  {
   "cell_type": "code",
   "execution_count": 37,
   "metadata": {
    "ExecuteTime": {
     "end_time": "2020-11-22T16:43:43.765403Z",
     "start_time": "2020-11-22T16:43:28.274058Z"
    },
    "scrolled": false
   },
   "outputs": [
    {
     "name": "stdout",
     "output_type": "stream",
     "text": [
      "@BlakesWort Der Polestar sieht allerdings um Welten besser aus als der Tesla. Keine Ahnung warum die ihre Autos aus… https://t.co/b18ZQ1dmVQ\n",
      "RT @vkhosla: I should clarify. If execution only not reinvention si your goal, experience reduces risk. Otherwise great entrepreneurs with…\n",
      "RT @business: As leaders of the world’s richest countries pushed for equality in the race for a coronavirus vaccine, President Trump kept m…\n",
      "We’re operating at an 96% success rate with an average profit of 25% in 4 days: https://t.co/0vQUBwujOi\n",
      "\n",
      "$WKHS $CNK… https://t.co/VqDZKsmfb4\n",
      "@business Propaganda wrapped in 'social awareness\" is still propaganda--if you have to camoflage your end goals, yo… https://t.co/MruorUdzSL\n",
      "@jimcramer Jim.  Please let us help remote produce this zoom call recording.  Lighting and audio fix desperately needed.\n",
      "@stevenmarkryan New Tesla news got you pissed?\n",
      "Nikola Tesla invented this technology long ago!?! But it isn't the first time new technology has been suppressed \n",
      "\n",
      "https://t.co/YPGYN1amPx\n",
      "RT @paulkrugman: Does anyone remember why we were originally urged to \"bend the curve\" on the coronavirus? The immediate fear was that deat…\n",
      "Stoned driver crashed Tesla Model 3 at 100  mph sending battery cells flying https://t.co/V4qWyCi9Bc via @Yahoo Sto… https://t.co/3OJZEPtQuf\n",
      "Written 10 Tweets\n"
     ]
    }
   ],
   "source": [
    "# check the specific accounts\n",
    "tw = Twitter()\n",
    "# seems hard to get 100% relavant tweets\n",
    "tw.tweets(follow=list(newspapers_dict.values()), limit=10, keywords='tesla, $TSLA', lang='en') # see what the newspapers are talking about"
   ]
  },
  {
   "cell_type": "markdown",
   "metadata": {},
   "source": [
    "### Save file\n",
    "```to_screen=False``` to save tweets to json"
   ]
  },
  {
   "cell_type": "code",
   "execution_count": 39,
   "metadata": {
    "ExecuteTime": {
     "end_time": "2020-11-22T17:09:08.932343Z",
     "start_time": "2020-11-22T16:46:13.798993Z"
    }
   },
   "outputs": [
    {
     "name": "stdout",
     "output_type": "stream",
     "text": [
      "Writing to /Users/shuyili/twitter-files/tweets.20201122-174613.json\n",
      "Written 1000 Tweets\n"
     ]
    }
   ],
   "source": [
    "# get some tweets saved locally in twitter-files/\n",
    "tw = Twitter()\n",
    "tw.tweets(to_screen=False, follow=list(newspapers_dict.values()), limit=1000, keywords='tesla, $TSLA', lang='en') # see what the newspapers are talking about"
   ]
  },
  {
   "cell_type": "code",
   "execution_count": null,
   "metadata": {},
   "outputs": [],
   "source": []
  }
 ],
 "metadata": {
  "kernelspec": {
   "display_name": "Python [conda env:env-ml-opencv] *",
   "language": "python",
   "name": "conda-env-env-ml-opencv-py"
  },
  "language_info": {
   "codemirror_mode": {
    "name": "ipython",
    "version": 3
   },
   "file_extension": ".py",
   "mimetype": "text/x-python",
   "name": "python",
   "nbconvert_exporter": "python",
   "pygments_lexer": "ipython3",
   "version": "3.7.5"
  },
  "latex_envs": {
   "LaTeX_envs_menu_present": true,
   "autoclose": false,
   "autocomplete": true,
   "bibliofile": "biblio.bib",
   "cite_by": "apalike",
   "current_citInitial": 1,
   "eqLabelWithNumbers": true,
   "eqNumInitial": 1,
   "hotkeys": {
    "equation": "Ctrl-E",
    "itemize": "Ctrl-I"
   },
   "labels_anchors": false,
   "latex_user_defs": false,
   "report_style_numbering": false,
   "user_envs_cfg": false
  },
  "toc": {
   "base_numbering": 1,
   "nav_menu": {},
   "number_sections": true,
   "sideBar": true,
   "skip_h1_title": false,
   "title_cell": "Table of Contents",
   "title_sidebar": "Contents",
   "toc_cell": true,
   "toc_position": {},
   "toc_section_display": true,
   "toc_window_display": true
  }
 },
 "nbformat": 4,
 "nbformat_minor": 4
}
